{
 "cells": [
  {
   "cell_type": "code",
   "execution_count": 7,
   "metadata": {},
   "outputs": [],
   "source": [
    "import pandas as pd\n",
    "import numpy as np\n",
    "from sklearn.model_selection import train_test_split"
   ]
  },
  {
   "cell_type": "code",
   "execution_count": 8,
   "metadata": {},
   "outputs": [
    {
     "name": "stdout",
     "output_type": "stream",
     "text": [
      "     Pregnancies  Glucose  BloodPressure  SkinThickness  Insulin   BMI  \\\n",
      "0              6      148             72             35        0  33.6   \n",
      "1              1       85             66             29        0  26.6   \n",
      "2              8      183             64              0        0  23.3   \n",
      "3              1       89             66             23       94  28.1   \n",
      "4              0      137             40             35      168  43.1   \n",
      "..           ...      ...            ...            ...      ...   ...   \n",
      "763           10      101             76             48      180  32.9   \n",
      "764            2      122             70             27        0  36.8   \n",
      "765            5      121             72             23      112  26.2   \n",
      "766            1      126             60              0        0  30.1   \n",
      "767            1       93             70             31        0  30.4   \n",
      "\n",
      "     DiabetesPedigreeFunction  Age  Outcome  \n",
      "0                       0.627   50        1  \n",
      "1                       0.351   31        0  \n",
      "2                       0.672   32        1  \n",
      "3                       0.167   21        0  \n",
      "4                       2.288   33        1  \n",
      "..                        ...  ...      ...  \n",
      "763                     0.171   63        0  \n",
      "764                     0.340   27        0  \n",
      "765                     0.245   30        0  \n",
      "766                     0.349   47        1  \n",
      "767                     0.315   23        0  \n",
      "\n",
      "[768 rows x 9 columns]\n"
     ]
    }
   ],
   "source": [
    "data = pd.read_csv('./diabetes.csv')\n",
    "print(data)"
   ]
  },
  {
   "cell_type": "code",
   "execution_count": 3,
   "metadata": {},
   "outputs": [],
   "source": [
    "train_data, test_data = train_test_split(data, test_size=0.2, random_state=42)\n",
    "train_data.to_csv('train_data.csv', index=False)\n",
    "test_data.to_csv('test_data.csv', index=False)"
   ]
  },
  {
   "cell_type": "code",
   "execution_count": 4,
   "metadata": {},
   "outputs": [
    {
     "name": "stdout",
     "output_type": "stream",
     "text": [
      "     Pregnancies  Glucose  BloodPressure  SkinThickness  Insulin   BMI  \\\n",
      "0              2       84              0              0        0   0.0   \n",
      "1              9      112             82             24        0  28.2   \n",
      "2              1      139             46             19       83  28.7   \n",
      "3              0      161             50              0        0  21.9   \n",
      "4              6      134             80             37      370  46.2   \n",
      "..           ...      ...            ...            ...      ...   ...   \n",
      "609            5      139             64             35      140  28.6   \n",
      "610            1       96            122              0        0  22.4   \n",
      "611           10      101             86             37        0  45.6   \n",
      "612            0      141              0              0        0  42.4   \n",
      "613            0      125             96              0        0  22.5   \n",
      "\n",
      "     DiabetesPedigreeFunction  Age  Outcome  \n",
      "0                       0.304   21        0  \n",
      "1                       1.282   50        1  \n",
      "2                       0.654   22        0  \n",
      "3                       0.254   65        0  \n",
      "4                       0.238   46        1  \n",
      "..                        ...  ...      ...  \n",
      "609                     0.411   26        0  \n",
      "610                     0.207   27        0  \n",
      "611                     1.136   38        1  \n",
      "612                     0.205   29        1  \n",
      "613                     0.262   21        0  \n",
      "\n",
      "[614 rows x 9 columns]\n"
     ]
    }
   ],
   "source": [
    "data = pd.read_csv('./train_data.csv')\n",
    "print(data)"
   ]
  },
  {
   "cell_type": "code",
   "execution_count": 5,
   "metadata": {},
   "outputs": [],
   "source": [
    "xTrain = data.values\n",
    "xTrain = np.delete(xTrain, 8, axis=1)\n",
    "\n",
    "yTrain = data['Outcome'].values"
   ]
  },
  {
   "cell_type": "code",
   "execution_count": 6,
   "metadata": {},
   "outputs": [
    {
     "name": "stdout",
     "output_type": "stream",
     "text": [
      "     Pregnancies  Glucose  BloodPressure  SkinThickness  Insulin   BMI  \\\n",
      "0              6       98             58             33      190  34.0   \n",
      "1              2      112             75             32        0  35.7   \n",
      "2              2      108             64              0        0  30.8   \n",
      "3              8      107             80              0        0  24.6   \n",
      "4              7      136             90              0        0  29.9   \n",
      "..           ...      ...            ...            ...      ...   ...   \n",
      "149            9      165             88              0        0  30.4   \n",
      "150            1       77             56             30       56  33.3   \n",
      "151            8       95             72              0        0  36.8   \n",
      "152            2      146             70             38      360  28.0   \n",
      "153            8       74             70             40       49  35.3   \n",
      "\n",
      "     DiabetesPedigreeFunction  Age  Outcome  \n",
      "0                       0.430   43        0  \n",
      "1                       0.148   21        0  \n",
      "2                       0.158   21        0  \n",
      "3                       0.856   34        0  \n",
      "4                       0.210   50        0  \n",
      "..                        ...  ...      ...  \n",
      "149                     0.302   49        1  \n",
      "150                     1.251   24        0  \n",
      "151                     0.485   57        0  \n",
      "152                     0.337   29        1  \n",
      "153                     0.705   39        0  \n",
      "\n",
      "[154 rows x 9 columns]\n"
     ]
    }
   ],
   "source": [
    "data = pd.read_csv('./test_data.csv')\n",
    "print(data)"
   ]
  },
  {
   "cell_type": "code",
   "execution_count": 7,
   "metadata": {},
   "outputs": [],
   "source": [
    "xTest = data.values\n",
    "xTest = np.delete(xTest, 8, axis=1)\n",
    "\n",
    "yTest = data['Outcome'].values"
   ]
  },
  {
   "cell_type": "code",
   "execution_count": 8,
   "metadata": {},
   "outputs": [
    {
     "name": "stdout",
     "output_type": "stream",
     "text": [
      "Data Train :\n",
      "\n",
      "[[0.11764706 0.42211055 0.         ... 0.         0.09649872 0.        ]\n",
      " [0.52941176 0.56281407 0.67213115 ... 0.42026826 0.51409052 0.48333333]\n",
      " [0.05882353 0.69849246 0.37704918 ... 0.42771982 0.24594364 0.01666667]\n",
      " ...\n",
      " [0.58823529 0.50753769 0.70491803 ... 0.67958271 0.45175064 0.28333333]\n",
      " [0.         0.70854271 0.         ... 0.6318927  0.05422716 0.13333333]\n",
      " [0.         0.6281407  0.78688525 ... 0.33532042 0.07856533 0.        ]] \n",
      "\n",
      "\n",
      "Data Test :\n",
      "\n",
      "[[0.46153846 0.26666667 0.50877193 ... 0.63909774 0.25465839 0.47826087]\n",
      " [0.15384615 0.37037037 0.65789474 ... 0.67105263 0.03571429 0.        ]\n",
      " [0.15384615 0.34074074 0.56140351 ... 0.57894737 0.04347826 0.        ]\n",
      " ...\n",
      " [0.61538462 0.24444444 0.63157895 ... 0.69172932 0.29736025 0.7826087 ]\n",
      " [0.15384615 0.62222222 0.61403509 ... 0.52631579 0.18245342 0.17391304]\n",
      " [0.61538462 0.08888889 0.61403509 ... 0.66353383 0.4681677  0.39130435]]\n"
     ]
    }
   ],
   "source": [
    "from sklearn.preprocessing import MinMaxScaler\n",
    "\n",
    "xTrain = MinMaxScaler().fit_transform(xTrain)\n",
    "xTest = MinMaxScaler().fit_transform(xTest)\n",
    "\n",
    "print(\"Data Train :\\n\")\n",
    "print(xTrain, \"\\n\\n\")\n",
    "print(\"Data Test :\\n\")\n",
    "print(xTest)"
   ]
  },
  {
   "cell_type": "code",
   "execution_count": 9,
   "metadata": {},
   "outputs": [
    {
     "data": {
      "text/html": [
       "<style>#sk-container-id-1 {color: black;}#sk-container-id-1 pre{padding: 0;}#sk-container-id-1 div.sk-toggleable {background-color: white;}#sk-container-id-1 label.sk-toggleable__label {cursor: pointer;display: block;width: 100%;margin-bottom: 0;padding: 0.3em;box-sizing: border-box;text-align: center;}#sk-container-id-1 label.sk-toggleable__label-arrow:before {content: \"▸\";float: left;margin-right: 0.25em;color: #696969;}#sk-container-id-1 label.sk-toggleable__label-arrow:hover:before {color: black;}#sk-container-id-1 div.sk-estimator:hover label.sk-toggleable__label-arrow:before {color: black;}#sk-container-id-1 div.sk-toggleable__content {max-height: 0;max-width: 0;overflow: hidden;text-align: left;background-color: #f0f8ff;}#sk-container-id-1 div.sk-toggleable__content pre {margin: 0.2em;color: black;border-radius: 0.25em;background-color: #f0f8ff;}#sk-container-id-1 input.sk-toggleable__control:checked~div.sk-toggleable__content {max-height: 200px;max-width: 100%;overflow: auto;}#sk-container-id-1 input.sk-toggleable__control:checked~label.sk-toggleable__label-arrow:before {content: \"▾\";}#sk-container-id-1 div.sk-estimator input.sk-toggleable__control:checked~label.sk-toggleable__label {background-color: #d4ebff;}#sk-container-id-1 div.sk-label input.sk-toggleable__control:checked~label.sk-toggleable__label {background-color: #d4ebff;}#sk-container-id-1 input.sk-hidden--visually {border: 0;clip: rect(1px 1px 1px 1px);clip: rect(1px, 1px, 1px, 1px);height: 1px;margin: -1px;overflow: hidden;padding: 0;position: absolute;width: 1px;}#sk-container-id-1 div.sk-estimator {font-family: monospace;background-color: #f0f8ff;border: 1px dotted black;border-radius: 0.25em;box-sizing: border-box;margin-bottom: 0.5em;}#sk-container-id-1 div.sk-estimator:hover {background-color: #d4ebff;}#sk-container-id-1 div.sk-parallel-item::after {content: \"\";width: 100%;border-bottom: 1px solid gray;flex-grow: 1;}#sk-container-id-1 div.sk-label:hover label.sk-toggleable__label {background-color: #d4ebff;}#sk-container-id-1 div.sk-serial::before {content: \"\";position: absolute;border-left: 1px solid gray;box-sizing: border-box;top: 0;bottom: 0;left: 50%;z-index: 0;}#sk-container-id-1 div.sk-serial {display: flex;flex-direction: column;align-items: center;background-color: white;padding-right: 0.2em;padding-left: 0.2em;position: relative;}#sk-container-id-1 div.sk-item {position: relative;z-index: 1;}#sk-container-id-1 div.sk-parallel {display: flex;align-items: stretch;justify-content: center;background-color: white;position: relative;}#sk-container-id-1 div.sk-item::before, #sk-container-id-1 div.sk-parallel-item::before {content: \"\";position: absolute;border-left: 1px solid gray;box-sizing: border-box;top: 0;bottom: 0;left: 50%;z-index: -1;}#sk-container-id-1 div.sk-parallel-item {display: flex;flex-direction: column;z-index: 1;position: relative;background-color: white;}#sk-container-id-1 div.sk-parallel-item:first-child::after {align-self: flex-end;width: 50%;}#sk-container-id-1 div.sk-parallel-item:last-child::after {align-self: flex-start;width: 50%;}#sk-container-id-1 div.sk-parallel-item:only-child::after {width: 0;}#sk-container-id-1 div.sk-dashed-wrapped {border: 1px dashed gray;margin: 0 0.4em 0.5em 0.4em;box-sizing: border-box;padding-bottom: 0.4em;background-color: white;}#sk-container-id-1 div.sk-label label {font-family: monospace;font-weight: bold;display: inline-block;line-height: 1.2em;}#sk-container-id-1 div.sk-label-container {text-align: center;}#sk-container-id-1 div.sk-container {/* jupyter's `normalize.less` sets `[hidden] { display: none; }` but bootstrap.min.css set `[hidden] { display: none !important; }` so we also need the `!important` here to be able to override the default hidden behavior on the sphinx rendered scikit-learn.org. See: https://github.com/scikit-learn/scikit-learn/issues/21755 */display: inline-block !important;position: relative;}#sk-container-id-1 div.sk-text-repr-fallback {display: none;}</style><div id=\"sk-container-id-1\" class=\"sk-top-container\"><div class=\"sk-text-repr-fallback\"><pre>MLPClassifier(hidden_layer_sizes=3, learning_rate_init=0.1, max_iter=100)</pre><b>In a Jupyter environment, please rerun this cell to show the HTML representation or trust the notebook. <br />On GitHub, the HTML representation is unable to render, please try loading this page with nbviewer.org.</b></div><div class=\"sk-container\" hidden><div class=\"sk-item\"><div class=\"sk-estimator sk-toggleable\"><input class=\"sk-toggleable__control sk-hidden--visually\" id=\"sk-estimator-id-1\" type=\"checkbox\" checked><label for=\"sk-estimator-id-1\" class=\"sk-toggleable__label sk-toggleable__label-arrow\">MLPClassifier</label><div class=\"sk-toggleable__content\"><pre>MLPClassifier(hidden_layer_sizes=3, learning_rate_init=0.1, max_iter=100)</pre></div></div></div></div></div>"
      ],
      "text/plain": [
       "MLPClassifier(hidden_layer_sizes=3, learning_rate_init=0.1, max_iter=100)"
      ]
     },
     "execution_count": 9,
     "metadata": {},
     "output_type": "execute_result"
    }
   ],
   "source": [
    "from sklearn.neural_network import MLPClassifier\n",
    "clf = MLPClassifier(hidden_layer_sizes=3, learning_rate_init=0.1, max_iter=100)\n",
    "\n",
    "clf.fit(xTrain, yTrain)"
   ]
  },
  {
   "cell_type": "code",
   "execution_count": 10,
   "metadata": {},
   "outputs": [],
   "source": [
    "yPred = clf.predict(xTest)"
   ]
  },
  {
   "cell_type": "code",
   "execution_count": 11,
   "metadata": {},
   "outputs": [
    {
     "name": "stdout",
     "output_type": "stream",
     "text": [
      "Akurasi model : 0.773\n"
     ]
    }
   ],
   "source": [
    "from sklearn.metrics import accuracy_score\n",
    "\n",
    "akurasi = round(accuracy_score(yTest, yPred), 3)\n",
    "print(\"Akurasi model :\", akurasi)"
   ]
  },
  {
   "cell_type": "code",
   "execution_count": 20,
   "metadata": {},
   "outputs": [
    {
     "name": "stdout",
     "output_type": "stream",
     "text": [
      "[[89 10]\n",
      " [25 30]]\n"
     ]
    }
   ],
   "source": [
    "import matplotlib.pyplot as plt\n",
    "from sklearn.metrics import confusion_matrix\n",
    "import numpy as np\n",
    "\n",
    "cMatrix = confusion_matrix(yTest, yPred)\n",
    "print(cMatrix)"
   ]
  },
  {
   "cell_type": "code",
   "execution_count": 19,
   "metadata": {},
   "outputs": [
    {
     "data": {
      "image/png": "[encoded data removed]",
      "text/plain": [
       "<Figure size 640x480 with 2 Axes>"
      ]
     },
     "metadata": {},
     "output_type": "display_data"
    }
   ],
   "source": [
    "plt.imshow(cMatrix, interpolation='nearest', cmap=plt.cm.Blues)\n",
    "plt.title('Confusion Matrix')\n",
    "plt.colorbar()\n",
    "plt.xlabel('Predicted labels')\n",
    "plt.ylabel('True labels')\n",
    "plt.xticks(np.arange(2), ['0', '1'])\n",
    "plt.yticks(np.arange(2), ['0', '1'])\n",
    "\n",
    "thresh = cMatrix.max() / 2.\n",
    "for i in range(cMatrix.shape[0]):\n",
    "  for j in range(cMatrix.shape[1]):\n",
    "    plt.text(j, i, format(cMatrix[i, j], 'd'),\n",
    "      ha=\"center\", va=\"center\",\n",
    "      color=\"white\" if cMatrix[i, j] > thresh else \"black\")\n",
    "\n",
    "plt.show()"
   ]
  },
  {
   "cell_type": "code",
   "execution_count": 27,
   "metadata": {},
   "outputs": [
    {
     "name": "stdout",
     "output_type": "stream",
     "text": [
      "10\n"
     ]
    }
   ],
   "source": [
    "tn = cMatrix[0][0]\n",
    "fn = cMatrix[1][0]\n",
    "tp = cMatrix[1][1]\n",
    "fp = cMatrix[0][1]\n",
    "\n",
    "print(fp)"
   ]
  },
  {
   "cell_type": "code",
   "execution_count": 28,
   "metadata": {},
   "outputs": [
    {
     "name": "stdout",
     "output_type": "stream",
     "text": [
      "0.7727272727272727\n"
     ]
    }
   ],
   "source": [
    "def akurasi(tn, tp, fn, fp):\n",
    "  akurasi = (tn + tp) / (tn + tp + fn + fp)\n",
    "  return akurasi\n",
    "\n",
    "print(akurasi(tn, tp, fn, fp))"
   ]
  },
  {
   "cell_type": "code",
   "execution_count": 32,
   "metadata": {},
   "outputs": [
    {
     "name": "stdout",
     "output_type": "stream",
     "text": [
      "0.75\n"
     ]
    }
   ],
   "source": [
    "def presisi(tp, fp):\n",
    "  presisi = tp / (tp + fp)\n",
    "  return presisi\n",
    "\n",
    "print(presisi(tp, fp))\n",
    "pre = presisi(tp, fp)"
   ]
  },
  {
   "cell_type": "code",
   "execution_count": 33,
   "metadata": {},
   "outputs": [
    {
     "name": "stdout",
     "output_type": "stream",
     "text": [
      "0.5454545454545454\n"
     ]
    }
   ],
   "source": [
    "def recall(tp, fn):\n",
    "  recall = tp / (tp + fn)\n",
    "  return recall\n",
    "\n",
    "print(recall(tp, fn))\n",
    "rec = recall(tp, fn)"
   ]
  },
  {
   "cell_type": "code",
   "execution_count": 31,
   "metadata": {},
   "outputs": [
    {
     "name": "stdout",
     "output_type": "stream",
     "text": [
      "0.898989898989899\n"
     ]
    }
   ],
   "source": [
    "def spesifitas(tn, fp):\n",
    "  spesifitas = tn / (tn + fp)\n",
    "  return spesifitas\n",
    "\n",
    "print(spesifitas(tn, fp))"
   ]
  },
  {
   "cell_type": "code",
   "execution_count": 34,
   "metadata": {},
   "outputs": [
    {
     "name": "stdout",
     "output_type": "stream",
     "text": [
      "0.631578947368421\n"
     ]
    }
   ],
   "source": [
    "def f1score(recall, presisi):\n",
    "  fscore = (2 * recall * presisi) / (recall + presisi)\n",
    "  return fscore\n",
    "\n",
    "print(f1score(rec, pre))"
   ]
  }
 ],
 "metadata": {
  "kernelspec": {
   "display_name": "pythonlab",
   "language": "python",
   "name": "pythonlab"
  },
  "language_info": {
   "codemirror_mode": {
    "name": "ipython",
    "version": 3
   },
   "file_extension": ".py",
   "mimetype": "text/x-python",
   "name": "python",
   "nbconvert_exporter": "python",
   "pygments_lexer": "ipython3",
   "version": "3.12.0"
  }
 },
 "nbformat": 4,
 "nbformat_minor": 2
}
